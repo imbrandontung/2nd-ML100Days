{
  "metadata" : {
    "kernel_info": {
        "111這項Kaggle競賽旨在探討資訊安全的議題。\n"
        "name" : "the name of the kernel"
    },
    "language_info": {
        "222這項Kaggle競賽旨在探討資訊安全的議題。\n"
        "name" : "the programming language of the kernel",
        "version": "the version of the language",
        "codemirror_mode": "The name of the codemirror mode to use [optional]"
    }
  },
  "nbformat": 4,
  "nbformat_minor": 0,
  "cells" : [
      "333這項Kaggle競賽旨在探討資訊安全的議題。\n"
  ],
}
