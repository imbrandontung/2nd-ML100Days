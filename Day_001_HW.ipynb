{
 "cells": [
  {
   "cell_type": "markdown",
   "metadata": {},
   "source": [
    "# 作業1\n",
    "Kaggle競賽題目：[Microsoft Malware Prediction: Can you predict if a machine will soon be hit with malware?](https://www.kaggle.com/c/microsoft-malware-prediction)\n",
    "這項Kaggle競賽旨在探討資訊安全的議題。\n",
    "在當今社會中，小至民眾，乃至企業、政府等等的生活、辦公都是透過電腦、行動裝置等資訊設備進行處理。然而在資訊設備帶給我們便利的過程中，也伴隨著受到病毒、等惡意程式的威脅。稍有不慎就會造成莫大的損失。因此如何避免電腦、行動裝置受到惡意程式的攻擊就成為日益重要的議題。\n",
    "這份資料是由Microsoft提供的資料集，其中包含了電腦作業系統、防毒軟體的版本資訊、預設的瀏覽器...等等共81項參數。\n",
    "是運用訓練集資料建立監督式的模型，並將模型套用在測試集資料，最終會從AUC的角度來作為衡量成績的指標。"
   ]
  }, 
  {
   "cell_type": "code",
   "execution_count": 21,
 "nbformat": 4,
 "nbformat_minor": 1
}
